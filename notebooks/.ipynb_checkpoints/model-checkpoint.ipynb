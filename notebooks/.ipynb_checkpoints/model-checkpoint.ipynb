{
 "cells": [
  {
   "cell_type": "code",
   "execution_count": 15,
   "id": "afc3b6ac-ea48-4162-a46a-6895301e72a5",
   "metadata": {},
   "outputs": [],
   "source": [
    "# Import library\n",
    "import pandas as pd\n",
    "import matplotlib.pyplot as plt\n",
    "from sklearn.cluster import KMeans\n",
    "from sklearn.preprocessing import StandardScaler\n",
    "from sklearn.pipeline import make_pipeline\n",
    "from sklearn.model_selection import train_test_split\n",
    "from sklearn.feature_extraction.text import CountVectorizer\n",
    "from sklearn.naive_bayes import MultinomialNB\n",
    "from sklearn.metrics import accuracy_score, classification_report\n",
    "from joblib import dump"
   ]
  },
  {
   "cell_type": "code",
   "execution_count": 6,
   "id": "d52672fc-1486-42ea-bc37-11cb4e57639c",
   "metadata": {},
   "outputs": [
    {
     "name": "stdout",
     "output_type": "stream",
     "text": [
      "    jenis_kelamin  umur semester  useful_medsos  freq_medsos  useful_course  \\\n",
      "0       Laki-laki    20        3              4            4              4   \n",
      "1       Laki-laki    20        7              4            4              4   \n",
      "2       Perempuan    20        5              4            4              4   \n",
      "3       Laki-laki    21        5              4            4              4   \n",
      "4       Laki-laki    20        5              4            4              4   \n",
      "..            ...   ...      ...            ...          ...            ...   \n",
      "118     Perempuan    22        5              3            3              3   \n",
      "119     Perempuan    18        7              3            4              4   \n",
      "120     Laki-laki    21        7              4            4              4   \n",
      "121     Laki-laki    18        3              4            3              4   \n",
      "122     Laki-laki    20        5              3            4              4   \n",
      "\n",
      "     freq_course  useful_app  freq_app   ipk  \n",
      "0              4           4         4  3.01  \n",
      "1              4           4         4  3.87  \n",
      "2              4           4         4  3.41  \n",
      "3              4           4         4  3.30  \n",
      "4              4           4         4  3.44  \n",
      "..           ...         ...       ...   ...  \n",
      "118            3           4         4  3.57  \n",
      "119            4           4         3  3.48  \n",
      "120            3           4         4  3.57  \n",
      "121            4           3         4  3.65  \n",
      "122            3           4         3  3.52  \n",
      "\n",
      "[123 rows x 10 columns]\n"
     ]
    }
   ],
   "source": [
    "# Import data\n",
    "df = pd.read_csv('rev_data_uts.csv')\n",
    "print(df)"
   ]
  },
  {
   "cell_type": "code",
   "execution_count": 7,
   "id": "0d2faeb3-89fd-4243-8f8a-1ada9ea7cbb8",
   "metadata": {},
   "outputs": [
    {
     "name": "stdout",
     "output_type": "stream",
     "text": [
      "     useful_medsos  freq_medsos  useful_course  freq_course  useful_app  \\\n",
      "0                4            4              4            4           4   \n",
      "1                4            4              4            4           4   \n",
      "2                4            4              4            4           4   \n",
      "3                4            4              4            4           4   \n",
      "4                4            4              4            4           4   \n",
      "..             ...          ...            ...          ...         ...   \n",
      "118              3            3              3            3           4   \n",
      "119              3            4              4            4           4   \n",
      "120              4            4              4            3           4   \n",
      "121              4            3              4            4           3   \n",
      "122              3            4              4            3           4   \n",
      "\n",
      "     freq_app   ipk  \n",
      "0           4  3.01  \n",
      "1           4  3.87  \n",
      "2           4  3.41  \n",
      "3           4  3.30  \n",
      "4           4  3.44  \n",
      "..        ...   ...  \n",
      "118         4  3.57  \n",
      "119         3  3.48  \n",
      "120         4  3.57  \n",
      "121         4  3.65  \n",
      "122         3  3.52  \n",
      "\n",
      "[123 rows x 7 columns]\n"
     ]
    }
   ],
   "source": [
    "# Input\n",
    "X = df[['useful_medsos', 'freq_medsos', 'useful_course', 'freq_course', 'useful_app', 'freq_app', 'ipk']]\n",
    "print(X)"
   ]
  },
  {
   "cell_type": "code",
   "execution_count": 8,
   "id": "156416a9-fdee-45f7-bad4-6bb826916b25",
   "metadata": {},
   "outputs": [],
   "source": [
    "# Standarisasi fitur agar memiliki mean=0 dan varians=1\n",
    "scaler = StandardScaler()\n",
    "X_scaled = scaler.fit_transform(X)"
   ]
  },
  {
   "cell_type": "code",
   "execution_count": 9,
   "id": "0d26233f-8eb9-4e92-8b17-03c74f46c3c5",
   "metadata": {},
   "outputs": [],
   "source": [
    "# Gunakan metode siku untuk menemukan jumlah klaster yang optimal\n",
    "distortions = []\n",
    "for i in range(1, 11):  # Coba jumlah klaster dari 1 hingga 10\n",
    "    kmeans = KMeans(n_clusters=i, random_state=42, n_init=10)\n",
    "    kmeans.fit(X_scaled)\n",
    "    distortions.append(kmeans.inertia_)"
   ]
  },
  {
   "cell_type": "code",
   "execution_count": 10,
   "id": "1013cd81-9680-4e35-adbd-88834f56c221",
   "metadata": {},
   "outputs": [
    {
     "data": {
      "image/png": "[encoded data removed]",
      "text/plain": [
       "<Figure size 640x480 with 1 Axes>"
      ]
     },
     "metadata": {},
     "output_type": "display_data"
    }
   ],
   "source": [
    "# Plot kurva siku (elbow)\n",
    "plt.plot(range(1, 11), distortions, marker='o')\n",
    "plt.title('Metode Siku untuk Jumlah Optimal k')\n",
    "plt.xlabel('Jumlah klaster')\n",
    "plt.ylabel('Distorsi (Inertia)')\n",
    "plt.show()"
   ]
  },
  {
   "cell_type": "code",
   "execution_count": 11,
   "id": "cc9c85dc-479e-4459-adbc-cdfbeab48a74",
   "metadata": {},
   "outputs": [
    {
     "name": "stdout",
     "output_type": "stream",
     "text": [
      "     useful_medsos  freq_medsos  useful_course  freq_course  useful_app  \\\n",
      "0                4            4              4            4           4   \n",
      "1                4            4              4            4           4   \n",
      "2                4            4              4            4           4   \n",
      "3                4            4              4            4           4   \n",
      "4                4            4              4            4           4   \n",
      "..             ...          ...            ...          ...         ...   \n",
      "118              3            3              3            3           4   \n",
      "119              3            4              4            4           4   \n",
      "120              4            4              4            3           4   \n",
      "121              4            3              4            4           3   \n",
      "122              3            4              4            3           4   \n",
      "\n",
      "     freq_app   ipk  cluster  \n",
      "0           4  3.01        1  \n",
      "1           4  3.87        1  \n",
      "2           4  3.41        1  \n",
      "3           4  3.30        1  \n",
      "4           4  3.44        1  \n",
      "..        ...   ...      ...  \n",
      "118         4  3.57        1  \n",
      "119         3  3.48        1  \n",
      "120         4  3.57        1  \n",
      "121         4  3.65        1  \n",
      "122         3  3.52        1  \n",
      "\n",
      "[123 rows x 8 columns]\n"
     ]
    }
   ],
   "source": [
    "# Tentukan jumlah klaster yang optimal\n",
    "num_clusters = 2\n",
    "\n",
    "# Inisialisasi dan latih model KMeans\n",
    "kmeans = KMeans(n_clusters=num_clusters, random_state=42, n_init=10)\n",
    "df['cluster'] = kmeans.fit_predict(X_scaled)\n",
    "\n",
    "# Masukkan 'cluster' ke kolom\n",
    "X = df[['useful_medsos', 'freq_medsos', 'useful_course', 'freq_course', 'useful_app', 'freq_app', 'ipk', 'cluster']]\n",
    "\n",
    "# Tampilkan DataFrame dengan klaster sebagai variabel output\n",
    "print(X)"
   ]
  },
  {
   "cell_type": "code",
   "execution_count": 12,
   "id": "effbb1ab-bbf2-40d6-a174-f7da92e59bf0",
   "metadata": {},
   "outputs": [
    {
     "data": {
      "image/png": "[encoded data removed]",
      "text/plain": [
       "<Figure size 640x480 with 1 Axes>"
      ]
     },
     "metadata": {},
     "output_type": "display_data"
    }
   ],
   "source": [
    "# Visualisasi hasil dengan scatter plot\n",
    "plt.scatter(df.index, df['cluster'], edgecolor='k', s=50)\n",
    "plt.title('Hasil Klastering dengan K-Means')\n",
    "plt.xlabel('Indeks Data')\n",
    "plt.ylabel('Klaster')\n",
    "plt.show()"
   ]
  },
  {
   "cell_type": "code",
   "execution_count": 13,
   "id": "025a12b0-d63f-42fb-8adb-fd5b7e9f49d7",
   "metadata": {},
   "outputs": [],
   "source": [
    "# Definisikan y\n",
    "y = df['cluster']\n",
    "\n",
    "# Bagi data menjadi set pelatihan dan pengujian\n",
    "X_train, X_test, y_train, y_test = train_test_split(X, y, test_size=0.2, random_state=42)"
   ]
  },
  {
   "cell_type": "code",
   "execution_count": 14,
   "id": "0ae09318-cf16-4a8d-8fb9-a27f53e6d3fd",
   "metadata": {},
   "outputs": [
    {
     "name": "stdout",
     "output_type": "stream",
     "text": [
      "Accuracy: 96.00%\n",
      "Classification Report:\n",
      "              precision    recall  f1-score   support\n",
      "\n",
      "           0       1.00      0.00      0.00         1\n",
      "           1       0.96      1.00      0.98        24\n",
      "\n",
      "    accuracy                           0.96        25\n",
      "   macro avg       0.98      0.50      0.49        25\n",
      "weighted avg       0.96      0.96      0.94        25\n",
      "\n"
     ]
    }
   ],
   "source": [
    "# Inisialisasi dan latih model Naive Bayes\n",
    "nb_classifier = MultinomialNB()\n",
    "nb_classifier.fit(X_train, y_train)\n",
    "\n",
    "# Lakukan prediksi pada set pengujian\n",
    "y_pred = nb_classifier.predict(X_test)\n",
    "\n",
    "# Evaluasi model\n",
    "accuracy = accuracy_score(y_test, y_pred)\n",
    "accuracy_percent = accuracy * 100\n",
    "print(f'Accuracy: {accuracy_percent:.2f}%')\n",
    "\n",
    "# Tampilkan classification report\n",
    "print('Classification Report:')\n",
    "print(classification_report(y_test, y_pred, zero_division=1))"
   ]
  },
  {
   "cell_type": "code",
   "execution_count": 18,
   "id": "5d7fc90c-ea3e-42b0-8ffb-0ec65646f275",
   "metadata": {},
   "outputs": [
    {
     "data": {
      "text/plain": [
       "['./../savedModels/model.joblib']"
      ]
     },
     "execution_count": 18,
     "metadata": {},
     "output_type": "execute_result"
    }
   ],
   "source": [
    "# Export model\n",
    "dump(nb_classifier, './../savedModels/model.joblib')"
   ]
  },
  {
   "cell_type": "code",
   "execution_count": null,
   "id": "e2ada86d-5ca4-424e-8459-7da11e277ebb",
   "metadata": {},
   "outputs": [],
   "source": []
  }
 ],
 "metadata": {
  "kernelspec": {
   "display_name": "Python 3 (ipykernel)",
   "language": "python",
   "name": "python3"
  },
  "language_info": {
   "codemirror_mode": {
    "name": "ipython",
    "version": 3
   },
   "file_extension": ".py",
   "mimetype": "text/x-python",
   "name": "python",
   "nbconvert_exporter": "python",
   "pygments_lexer": "ipython3",
   "version": "3.10.4"
  }
 },
 "nbformat": 4,
 "nbformat_minor": 5
}
